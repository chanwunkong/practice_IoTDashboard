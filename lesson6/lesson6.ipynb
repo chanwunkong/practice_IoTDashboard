{
 "cells": [
  {
   "cell_type": "code",
   "execution_count": 1,
   "metadata": {},
   "outputs": [
    {
     "data": {
      "text/plain": [
       "True"
      ]
     },
     "execution_count": 1,
     "metadata": {},
     "output_type": "execute_result"
    }
   ],
   "source": [
    "5 == 5"
   ]
  },
  {
   "cell_type": "code",
   "execution_count": 2,
   "metadata": {},
   "outputs": [
    {
     "data": {
      "text/plain": [
       "False"
      ]
     },
     "execution_count": 2,
     "metadata": {},
     "output_type": "execute_result"
    }
   ],
   "source": [
    "5 !=5"
   ]
  },
  {
   "cell_type": "code",
   "execution_count": 2,
   "metadata": {},
   "outputs": [
    {
     "name": "stdout",
     "output_type": "stream",
     "text": [
      "13\n",
      "未成年\n"
     ]
    }
   ],
   "source": [
    "age = int(input())\n",
    "print(age)\n",
    "if age >=18:\n",
    "    print(\"成年\")\n",
    "else:\n",
    "    print(\"未成年\")"
   ]
  },
  {
   "cell_type": "markdown",
   "metadata": {},
   "source": [
    "print(*objects, sep=' ', end='\\n', file=None, flush=False)\n",
    "\n",
    "*表示沒有限制數量的引數"
   ]
  },
  {
   "cell_type": "code",
   "execution_count": 13,
   "metadata": {},
   "outputs": [
    {
     "name": "stdout",
     "output_type": "stream",
     "text": [
      "目前分數 138\n"
     ]
    }
   ],
   "source": [
    "score = int(input(\"請輸入分數\"))\n",
    "is_add = input(\"是否符合加分\")\n",
    "if is_add == 'y':\n",
    "    score = score * 1.05\n",
    "\n",
    "print(\"目前分數\",round(score))"
   ]
  },
  {
   "cell_type": "code",
   "execution_count": 12,
   "metadata": {},
   "outputs": [
    {
     "name": "stdout",
     "output_type": "stream",
     "text": [
      "目前分數 139\n"
     ]
    }
   ],
   "source": [
    "# 複合指令運算子 *= , +=\n",
    "score = int(input(\"請輸入分數\"))\n",
    "is_add = input(\"是否符合加分\")\n",
    "if is_add == 'y':\n",
    "    score *= 1.05\n",
    "print(\"目前分數\",round(score))"
   ]
  },
  {
   "cell_type": "code",
   "execution_count": 20,
   "metadata": {},
   "outputs": [
    {
     "name": "stdout",
     "output_type": "stream",
     "text": [
      "格式錯誤\n",
      "程式結束\n"
     ]
    }
   ],
   "source": [
    "# 例外處理 raise Exception try->except->(else)->(finally)\n",
    "try:\n",
    "    score = int(input(\"請輸入分數\"))\n",
    "except:\n",
    "    print('格式錯誤')\n",
    "else:\n",
    "    if score <= 300:\n",
    "        is_add = input(\"是否符合加分\")\n",
    "        if is_add == 'y':\n",
    "            score *= 1.2\n",
    "            if score > 300:\n",
    "                score = 300\n",
    "        print(\"目前分數\",round(score))\n",
    "    else:\n",
    "        print(\"請輸入小於300\")\n",
    "finally:\n",
    "    print(\"程式結束\")"
   ]
  },
  {
   "cell_type": "code",
   "execution_count": 1,
   "metadata": {},
   "outputs": [
    {
     "name": "stdout",
     "output_type": "stream",
     "text": [
      "良\n"
     ]
    }
   ],
   "source": [
    "CC = int(input(\"\"))\n",
    "if CC >= 60:\n",
    "    if CC < 80:\n",
    "        print(\"可\")"
   ]
  },
  {
   "cell_type": "code",
   "execution_count": 2,
   "metadata": {},
   "outputs": [
    {
     "name": "stdout",
     "output_type": "stream",
     "text": [
      "良\n"
     ]
    }
   ],
   "source": [
    "CC = int(input(\"\"))\n",
    "if CC < 60:\n",
    "    print(\"不及格\")\n",
    "if CC >= 80:\n",
    "    print(\"良\")"
   ]
  },
  {
   "cell_type": "code",
   "execution_count": null,
   "metadata": {},
   "outputs": [],
   "source": [
    "# 一元運算子 not，後面布林，結果布林\n",
    "# 二元運算子 and，前後都布林，嚴格判斷，結果布林\n",
    "# 二元運算子 or，前後都布林，簡單判斷，結果布林"
   ]
  },
  {
   "cell_type": "code",
   "execution_count": 4,
   "metadata": {},
   "outputs": [
    {
     "name": "stdout",
     "output_type": "stream",
     "text": [
      "可\n"
     ]
    }
   ],
   "source": [
    "CC = int(input(\"\"))\n",
    "if CC >= 60 and CC < 80:\n",
    "    print(\"可\")"
   ]
  },
  {
   "cell_type": "code",
   "execution_count": 6,
   "metadata": {},
   "outputs": [
    {
     "name": "stdout",
     "output_type": "stream",
     "text": [
      "非可\n"
     ]
    }
   ],
   "source": [
    "CC = int(input(\"\"))\n",
    "if CC < 60 or CC >= 80:\n",
    "    print(\"非可\")"
   ]
  },
  {
   "cell_type": "code",
   "execution_count": 7,
   "metadata": {},
   "outputs": [
    {
     "name": "stdout",
     "output_type": "stream",
     "text": [
      "目前分數 28\n",
      "程式結束\n"
     ]
    }
   ],
   "source": [
    "try:\n",
    "    score = int(input(\"請輸入分數\"))\n",
    "except:\n",
    "    print('格式錯誤')\n",
    "else:\n",
    "    if not(score <= 300 and score >= 0):\n",
    "        print(\"分數>300 or <0\")\n",
    "    else:\n",
    "        if score <= 300:\n",
    "            is_add = input(\"是否符合加分\")\n",
    "            if is_add == 'y':\n",
    "                score *= 1.2\n",
    "                if score > 300:\n",
    "                    score = 300\n",
    "            print(\"目前分數\",round(score))\n",
    "        else:\n",
    "            print(\"請輸入小於300\")\n",
    "finally:\n",
    "    print(\"程式結束\")"
   ]
  },
  {
   "cell_type": "code",
   "execution_count": 9,
   "metadata": {},
   "outputs": [
    {
     "name": "stdout",
     "output_type": "stream",
     "text": [
      "100\n",
      "良\n"
     ]
    }
   ],
   "source": [
    "try:\n",
    "    score = int(input(\"請輸入分數\"))\n",
    "except:\n",
    "    print('格式錯誤')\n",
    "else:\n",
    "    print(score)\n",
    "    if score < 60:\n",
    "        print(\"不及格\")\n",
    "    else:\n",
    "        if score <80:\n",
    "            print(\"可\")\n",
    "        else:\n",
    "            print(\"良\")"
   ]
  }
 ],
 "metadata": {
  "kernelspec": {
   "display_name": "Python 3",
   "language": "python",
   "name": "python3"
  },
  "language_info": {
   "codemirror_mode": {
    "name": "ipython",
    "version": 3
   },
   "file_extension": ".py",
   "mimetype": "text/x-python",
   "name": "python",
   "nbconvert_exporter": "python",
   "pygments_lexer": "ipython3",
   "version": "3.10.14"
  }
 },
 "nbformat": 4,
 "nbformat_minor": 2
}
