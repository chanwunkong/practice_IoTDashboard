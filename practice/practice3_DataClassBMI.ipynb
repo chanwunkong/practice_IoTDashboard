{
 "cells": [
  {
   "cell_type": "markdown",
   "metadata": {},
   "source": [
    "# class BMI\n",
    "field -> name,weight,height\n",
    "property -> bmi\n",
    "instance method -> status\n",
    "\n",
    "# 輸入\n",
    "請輸入姓名\n",
    "體重\n",
    "身高\n",
    "\n",
    "# 輸出\n",
    "徐國堂您好,BMI:26.12,體重:過重"
   ]
  },
  {
   "cell_type": "code",
   "execution_count": 2,
   "metadata": {},
   "outputs": [
    {
     "name": "stdout",
     "output_type": "stream",
     "text": [
      "身高體重請輸入數字\n"
     ]
    }
   ],
   "source": [
    "class Person():\n",
    "    def __init__(self, name:str, height:float, weight:float) -> None: # attribute\n",
    "        self.name = name\n",
    "        self.height = height/100\n",
    "        self.weight = weight\n",
    "    \n",
    "    @property\n",
    "    def BMI(self) -> float:\n",
    "        return round((self.weight / self.height**2), 1)\n",
    "    \n",
    "    @property\n",
    "    def BMIJudge(self) -> str:\n",
    "        if self.BMI < 18.5:\n",
    "            return \"過瘦\"\n",
    "        elif self.BMI >= 18.5 and self.BMI <24:\n",
    "            return \"標準\"\n",
    "        elif self.BMI >= 24 and self.BMI <27:\n",
    "            return \"過重\"\n",
    "        elif self.BMI >= 27 and self.BMI <30:\n",
    "            return \"輕度肥胖\"\n",
    "        elif self.BMI >= 30 and self.BMI <35:\n",
    "            return \"中度肥胖\"\n",
    "        elif self.BMI >= 35:\n",
    "            return \"重度\"\n",
    "        else:\n",
    "            return \"格式錯誤\"\n",
    "\n",
    "    def __repr__(self):\n",
    "        return f\"您好:{self.name}\\n您的BMI是:{self.BMI}\\n您的體重:{self.BMIJudge}\"\n",
    "\n",
    "name = input(\"請輸入姓名\")\n",
    "height_input = input(\"請輸入身高(cm)\")\n",
    "weight_input = input(\"請輸入體重(kg)\")\n",
    "\n",
    "try:\n",
    "    height = float(height_input)\n",
    "    weight = float(weight_input)\n",
    "    p1 = Person(name, height, weight) \n",
    "    print(p1)\n",
    "except:\n",
    "    print(\"身高體重請輸入數字\")"
   ]
  },
  {
   "cell_type": "code",
   "execution_count": 1,
   "metadata": {},
   "outputs": [
    {
     "name": "stdout",
     "output_type": "stream",
     "text": [
      "您好:180\n",
      "您的BMI是:24.7\n",
      "您的體重:過重\n"
     ]
    }
   ],
   "source": [
    "from dataclasses import dataclass\n",
    "\n",
    "@dataclass\n",
    "class Person:\n",
    "    name:str\n",
    "    height:float\n",
    "    weight:float\n",
    "    \n",
    "\n",
    "    @property\n",
    "    def bmi(self) -> float:                                                                                                                                                                                                                                                                                                                                                                                                                                                                                                                                                                                                                                                                                                                                                                                                                                                                                                                                                                                                                                                                                                                                                                                                                                                                                                                                                                                                                                                                                                                                                                                                                                                                                                                                                                                                                                                                                                                                                                                                                                                                                                                                                                                                                                                                                                                                                                                                       \n",
    "        self._bmi = round((self.weight / self.height**2), 1)\n",
    "        return self._bmi\n",
    "    \n",
    "    @property\n",
    "    def BMIJudge(self) -> str:\n",
    "        if self.bmi < 18.5:\n",
    "            return \"過瘦\"\n",
    "        elif self.bmi >= 18.5 and self.bmi <24:\n",
    "            return \"標準\"\n",
    "        elif self.bmi >= 24 and self.bmi <27:\n",
    "            return \"過重\"\n",
    "        elif self.bmi >= 27 and self.bmi <30:\n",
    "            return \"輕度肥胖\"\n",
    "        elif self.bmi >= 30 and self.bmi <35:\n",
    "            return \"中度肥胖\"\n",
    "        elif self.bmi >= 35:\n",
    "            return \"重度\"\n",
    "        else:\n",
    "            return \"格式錯誤\"\n",
    "\n",
    "    def __repr__(self):\n",
    "        return f\"您好:{self.name}\\n您的BMI是:{self.bmi}\\n您的體重:{self.BMIJudge}\"\n",
    "    \n",
    "name = input(\"請輸入姓名\")\n",
    "height_input = input(\"請輸入身高(cm)\")\n",
    "weight_input = input(\"請輸入體重(kg)\")\n",
    "\n",
    "try:\n",
    "    height = float(height_input)/100\n",
    "    weight = float(weight_input)\n",
    "    p1 = Person(name, height, weight) \n",
    "    print(p1)\n",
    "except:\n",
    "    print(\"身高體重請輸入數字\")\n"
   ]
  },
  {
   "cell_type": "code",
   "execution_count": null,
   "metadata": {},
   "outputs": [],
   "source": [
    "Person"
   ]
  }
 ],
 "metadata": {
  "kernelspec": {
   "display_name": "Python 3",
   "language": "python",
   "name": "python3"
  },
  "language_info": {
   "codemirror_mode": {
    "name": "ipython",
    "version": 3
   },
   "file_extension": ".py",
   "mimetype": "text/x-python",
   "name": "python",
   "nbconvert_exporter": "python",
   "pygments_lexer": "ipython3",
   "version": "3.10.14"
  }
 },
 "nbformat": 4,
 "nbformat_minor": 2
}
