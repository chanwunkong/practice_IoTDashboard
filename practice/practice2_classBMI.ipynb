{
 "cells": [
  {
   "cell_type": "markdown",
   "metadata": {},
   "source": [
    "# class BMI\n",
    "attribute -> name,weight,height\n",
    "property -> bmi\n",
    "instance method -> status\n",
    "\n",
    "# 輸入\n",
    "請輸入姓名\n",
    "體重\n",
    "身高\n",
    "\n",
    "# 輸出\n",
    "徐國堂您好,BMI:26.12,體重:過重"
   ]
  },
  {
   "cell_type": "code",
   "execution_count": null,
   "metadata": {},
   "outputs": [],
   "source": [
    "try:\n",
    "    name = input(\"請輸入姓名\")\n",
    "    height = float(input(\"請輸入身高(cm)\"))/100\n",
    "    weight = float(input(\"請輸入體重(kg)\"))\n",
    "    BMI = round((weight / height**2), 1)\n",
    "    \n",
    "    # output\n",
    "    print(f\"您好:{name} \\n您的BMI是:{BMI}\")\n",
    "\n",
    "    if BMI < 18.5:\n",
    "        print(f\"您的體重:過瘦\")\n",
    "    elif BMI >= 18.5 & BMI <24:\n",
    "        print(f\"您的體重:標準\")\n",
    "    elif BMI >= 24 & BMI <27:\n",
    "        print(f\"您的體重:過重\")\n",
    "    elif BMI >= 27 & BMI <30:\n",
    "        print(f\"您的體重:輕度肥胖\")\n",
    "    elif BMI >= 30 & BMI <35:\n",
    "        print(f\"您的體重:中度肥胖\")\n",
    "    elif BMI >= 35:\n",
    "        print(f\"您的體重:重度\")\n",
    "    else:\n",
    "        print(\"您的體重:格式錯誤\")\n",
    "except:\n",
    "    print(\"格式錯誤\")\n",
    "print(\"===應用程式結束===\")"
   ]
  },
  {
   "cell_type": "code",
   "execution_count": null,
   "metadata": {},
   "outputs": [],
   "source": [
    "class person():\n",
    "    def __init__(self) -> None:\n",
    "        pass"
   ]
  }
 ],
 "metadata": {
  "language_info": {
   "name": "python"
  }
 },
 "nbformat": 4,
 "nbformat_minor": 2
}
