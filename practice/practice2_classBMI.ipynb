{
 "cells": [
  {
   "cell_type": "markdown",
   "metadata": {},
   "source": [
    "# class BMI\n",
    "attribute -> name,weight,height\n",
    "property -> bmi\n",
    "instance method -> status\n",
    "\n",
    "# 輸入\n",
    "請輸入姓名\n",
    "體重\n",
    "身高\n",
    "\n",
    "# 輸出\n",
    "徐國堂您好,BMI:26.12,體重:過重"
   ]
  },
  {
   "cell_type": "code",
   "execution_count": null,
   "metadata": {},
   "outputs": [],
   "source": [
    "try:\n",
    "    name = input(\"請輸入姓名\")\n",
    "    height = float(input(\"請輸入身高(cm)\"))/100\n",
    "    weight = float(input(\"請輸入體重(kg)\"))\n",
    "    BMI = round((weight / height**2), 1)\n",
    "    \n",
    "    # output\n",
    "    print(f\"您好:{name} \\n您的BMI是:{BMI}\")\n",
    "\n",
    "    if BMI < 18.5:\n",
    "        print(f\"您的體重:過瘦\")\n",
    "    elif BMI >= 18.5 & BMI <24:\n",
    "        print(f\"您的體重:標準\")\n",
    "    elif BMI >= 24 & BMI <27:\n",
    "        print(f\"您的體重:過重\")\n",
    "    elif BMI >= 27 & BMI <30:\n",
    "        print(f\"您的體重:輕度肥胖\")\n",
    "    elif BMI >= 30 & BMI <35:\n",
    "        print(f\"您的體重:中度肥胖\")\n",
    "    elif BMI >= 35:\n",
    "        print(f\"您的體重:重度\")\n",
    "    else:\n",
    "        print(\"您的體重:格式錯誤\")\n",
    "except:\n",
    "    print(\"格式錯誤\")\n",
    "print(\"===應用程式結束===\")"
   ]
  },
  {
   "cell_type": "code",
   "execution_count": 1,
   "metadata": {},
   "outputs": [
    {
     "name": "stdout",
     "output_type": "stream",
     "text": [
      "姓名是1\n"
     ]
    }
   ],
   "source": [
    "class person():\n",
    "    def __init__(self, name, height, weight) -> None: # attribute\n",
    "        self.name = name\n",
    "        self.height = height\n",
    "        self.weight = weight\n",
    "    \n",
    "    def __repr__(self):\n",
    "        return f'姓名是{self.name}'\n",
    "\n",
    "p1 = person(input(\"請輸入姓名\"),input(\"請輸入身高(cm)\"),input(\"請輸入體重(kg)\")) \n",
    "print(p1)"
   ]
  },
  {
   "cell_type": "code",
   "execution_count": 16,
   "metadata": {},
   "outputs": [
    {
     "ename": "TypeError",
     "evalue": "unsupported operand type(s) for /: 'str' and 'int'",
     "output_type": "error",
     "traceback": [
      "\u001b[0;31m---------------------------------------------------------------------------\u001b[0m",
      "\u001b[0;31mTypeError\u001b[0m                                 Traceback (most recent call last)",
      "Cell \u001b[0;32mIn[16], line 17\u001b[0m\n\u001b[1;32m     13\u001b[0m     \u001b[38;5;28;01mdef\u001b[39;00m \u001b[38;5;21m__repr__\u001b[39m(\u001b[38;5;28mself\u001b[39m):\n\u001b[1;32m     14\u001b[0m         \u001b[38;5;66;03m# return f\"您好:{self.name}\"\u001b[39;00m\n\u001b[1;32m     15\u001b[0m         \u001b[38;5;28;01mreturn\u001b[39;00m \u001b[38;5;124mf\u001b[39m\u001b[38;5;124m\"\u001b[39m\u001b[38;5;124m您的BMI是:\u001b[39m\u001b[38;5;132;01m{\u001b[39;00m\u001b[38;5;28mself\u001b[39m\u001b[38;5;241m.\u001b[39mBMI\u001b[38;5;132;01m}\u001b[39;00m\u001b[38;5;124m\"\u001b[39m\n\u001b[0;32m---> 17\u001b[0m p1 \u001b[38;5;241m=\u001b[39m \u001b[43mPerson\u001b[49m\u001b[43m(\u001b[49m\u001b[38;5;28;43minput\u001b[39;49m\u001b[43m(\u001b[49m\u001b[38;5;124;43m\"\u001b[39;49m\u001b[38;5;124;43m請輸入姓名\u001b[39;49m\u001b[38;5;124;43m\"\u001b[39;49m\u001b[43m)\u001b[49m\u001b[43m,\u001b[49m\u001b[38;5;28;43minput\u001b[39;49m\u001b[43m(\u001b[49m\u001b[38;5;124;43m\"\u001b[39;49m\u001b[38;5;124;43m請輸入身高(cm)\u001b[39;49m\u001b[38;5;124;43m\"\u001b[39;49m\u001b[43m)\u001b[49m\u001b[43m,\u001b[49m\u001b[38;5;28;43minput\u001b[39;49m\u001b[43m(\u001b[49m\u001b[38;5;124;43m\"\u001b[39;49m\u001b[38;5;124;43m請輸入體重(kg)\u001b[39;49m\u001b[38;5;124;43m\"\u001b[39;49m\u001b[43m)\u001b[49m\u001b[43m)\u001b[49m \n\u001b[1;32m     18\u001b[0m \u001b[38;5;28mprint\u001b[39m(p1)\n",
      "Cell \u001b[0;32mIn[16], line 4\u001b[0m, in \u001b[0;36mPerson.__init__\u001b[0;34m(self, name, height, weight)\u001b[0m\n\u001b[1;32m      2\u001b[0m \u001b[38;5;28;01mdef\u001b[39;00m \u001b[38;5;21m__init__\u001b[39m(\u001b[38;5;28mself\u001b[39m, name:\u001b[38;5;28mstr\u001b[39m, height:\u001b[38;5;28mfloat\u001b[39m, weight:\u001b[38;5;28mfloat\u001b[39m) \u001b[38;5;241m-\u001b[39m\u001b[38;5;241m>\u001b[39m \u001b[38;5;28;01mNone\u001b[39;00m: \u001b[38;5;66;03m# attribute\u001b[39;00m\n\u001b[1;32m      3\u001b[0m     \u001b[38;5;28mself\u001b[39m\u001b[38;5;241m.\u001b[39mname \u001b[38;5;241m=\u001b[39m name\n\u001b[0;32m----> 4\u001b[0m     \u001b[38;5;28mself\u001b[39m\u001b[38;5;241m.\u001b[39mheight \u001b[38;5;241m=\u001b[39m \u001b[43mheight\u001b[49m\u001b[38;5;241;43m/\u001b[39;49m\u001b[38;5;241;43m100\u001b[39;49m\n\u001b[1;32m      5\u001b[0m     \u001b[38;5;28mself\u001b[39m\u001b[38;5;241m.\u001b[39mweight \u001b[38;5;241m=\u001b[39m weight\n",
      "\u001b[0;31mTypeError\u001b[0m: unsupported operand type(s) for /: 'str' and 'int'"
     ]
    }
   ],
   "source": [
    "class Person():\n",
    "    def __init__(self, name:str, height:float, weight:float) -> None: # attribute\n",
    "        self.name = name\n",
    "        self.height = height/100\n",
    "        self.weight = weight\n",
    "    \n",
    "    @property\n",
    "    def BMI(self) -> float:\n",
    "        return round((self.weight / self.height**2), 1)\n",
    "        \n",
    "    \n",
    "\n",
    "    def __repr__(self):\n",
    "        # return f\"您好:{self.name}\"\n",
    "        return f\"您的BMI是:{self.BMI}\"\n",
    "\n",
    "p1 = Person(input(\"請輸入姓名\"),input(\"請輸入身高(cm)\"),input(\"請輸入體重(kg)\")) \n",
    "print(p1)"
   ]
  },
  {
   "cell_type": "code",
   "execution_count": null,
   "metadata": {},
   "outputs": [],
   "source": [
    "class Person():\n",
    "    def __init__(self, name:str, height:float, weight:float) -> None: # attribute\n",
    "        self.name = name\n",
    "        self.height = height/100\n",
    "        self.weight = weight\n",
    "    \n",
    "    @property\n",
    "    def BMI(self) -> float:\n",
    "        return round((self.weight / self.height**2), 1)\n",
    "\n",
    "    def __repr__(self):\n",
    "        return f\"您好:{self.name}\\n您的BMI是:{self.BMI}\"\n",
    "\n",
    "name = input(\"請輸入姓名\")\n",
    "height = float(input(\"請輸入身高(cm)\"))\n",
    "weight = float(input(\"請輸入體重(kg)\"))\n",
    "\n",
    "p1 = Person(name, height, weight) \n",
    "print(p1)"
   ]
  },
  {
   "cell_type": "code",
   "execution_count": 26,
   "metadata": {},
   "outputs": [
    {
     "ename": "TypeError",
     "evalue": "unsupported operand type(s) for &: 'float' and 'float'",
     "output_type": "error",
     "traceback": [
      "\u001b[0;31m---------------------------------------------------------------------------\u001b[0m",
      "\u001b[0;31mTypeError\u001b[0m                                 Traceback (most recent call last)",
      "Cell \u001b[0;32mIn[26], line 36\u001b[0m\n\u001b[1;32m     33\u001b[0m weight \u001b[38;5;241m=\u001b[39m \u001b[38;5;28mfloat\u001b[39m(\u001b[38;5;28minput\u001b[39m(\u001b[38;5;124m\"\u001b[39m\u001b[38;5;124m請輸入體重(kg)\u001b[39m\u001b[38;5;124m\"\u001b[39m))\n\u001b[1;32m     35\u001b[0m p1 \u001b[38;5;241m=\u001b[39m Person(name, height, weight) \n\u001b[0;32m---> 36\u001b[0m \u001b[38;5;28;43mprint\u001b[39;49m\u001b[43m(\u001b[49m\u001b[43mp1\u001b[49m\u001b[43m)\u001b[49m\n",
      "Cell \u001b[0;32mIn[26], line 29\u001b[0m, in \u001b[0;36mPerson.__repr__\u001b[0;34m(self)\u001b[0m\n\u001b[1;32m     28\u001b[0m \u001b[38;5;28;01mdef\u001b[39;00m \u001b[38;5;21m__repr__\u001b[39m(\u001b[38;5;28mself\u001b[39m):\n\u001b[0;32m---> 29\u001b[0m     \u001b[38;5;28;01mreturn\u001b[39;00m \u001b[38;5;124mf\u001b[39m\u001b[38;5;124m\"\u001b[39m\u001b[38;5;124m您好:\u001b[39m\u001b[38;5;132;01m{\u001b[39;00m\u001b[38;5;28mself\u001b[39m\u001b[38;5;241m.\u001b[39mname\u001b[38;5;132;01m}\u001b[39;00m\u001b[38;5;130;01m\\n\u001b[39;00m\u001b[38;5;124m您的BMI是:\u001b[39m\u001b[38;5;132;01m{\u001b[39;00m\u001b[38;5;28mself\u001b[39m\u001b[38;5;241m.\u001b[39mBMI\u001b[38;5;132;01m}\u001b[39;00m\u001b[38;5;130;01m\\n\u001b[39;00m\u001b[38;5;124m您的體重:\u001b[39m\u001b[38;5;132;01m{\u001b[39;00m\u001b[38;5;28;43mself\u001b[39;49m\u001b[38;5;241;43m.\u001b[39;49m\u001b[43mBMIJudge\u001b[49m\u001b[38;5;132;01m}\u001b[39;00m\u001b[38;5;124m\"\u001b[39m\n",
      "Cell \u001b[0;32mIn[26], line 15\u001b[0m, in \u001b[0;36mPerson.BMIJudge\u001b[0;34m(self)\u001b[0m\n\u001b[1;32m     13\u001b[0m \u001b[38;5;28;01mif\u001b[39;00m \u001b[38;5;28mself\u001b[39m\u001b[38;5;241m.\u001b[39mBMI \u001b[38;5;241m<\u001b[39m \u001b[38;5;241m18.5\u001b[39m:\n\u001b[1;32m     14\u001b[0m     \u001b[38;5;28;01mreturn\u001b[39;00m \u001b[38;5;124m\"\u001b[39m\u001b[38;5;124m過瘦\u001b[39m\u001b[38;5;124m\"\u001b[39m\n\u001b[0;32m---> 15\u001b[0m \u001b[38;5;28;01melif\u001b[39;00m \u001b[38;5;28mself\u001b[39m\u001b[38;5;241m.\u001b[39mBMI \u001b[38;5;241m>\u001b[39m\u001b[38;5;241m=\u001b[39m \u001b[38;5;241;43m18.5\u001b[39;49m\u001b[43m \u001b[49m\u001b[38;5;241;43m&\u001b[39;49m\u001b[43m \u001b[49m\u001b[38;5;28;43mself\u001b[39;49m\u001b[38;5;241;43m.\u001b[39;49m\u001b[43mBMI\u001b[49m \u001b[38;5;241m<\u001b[39m\u001b[38;5;241m24\u001b[39m:\n\u001b[1;32m     16\u001b[0m     \u001b[38;5;28;01mreturn\u001b[39;00m \u001b[38;5;124m\"\u001b[39m\u001b[38;5;124m標準\u001b[39m\u001b[38;5;124m\"\u001b[39m\n\u001b[1;32m     17\u001b[0m \u001b[38;5;66;03m# elif self.BMI >= 24 & self.BMI <27:\u001b[39;00m\n\u001b[1;32m     18\u001b[0m \u001b[38;5;66;03m#     return \"過重\"\u001b[39;00m\n\u001b[1;32m     19\u001b[0m \u001b[38;5;66;03m# elif self.BMI >= 27 & self.BMI <30:\u001b[39;00m\n\u001b[0;32m   (...)\u001b[0m\n\u001b[1;32m     24\u001b[0m \u001b[38;5;66;03m#     return \"重度\"\u001b[39;00m\n\u001b[1;32m     25\u001b[0m \u001b[38;5;28;01melse\u001b[39;00m:\n",
      "\u001b[0;31mTypeError\u001b[0m: unsupported operand type(s) for &: 'float' and 'float'"
     ]
    }
   ],
   "source": [
    "class Person():\n",
    "    def __init__(self, name:str, height:float, weight:float) -> None: # attribute\n",
    "        self.name = name\n",
    "        self.height = height/100\n",
    "        self.weight = weight\n",
    "    \n",
    "    @property\n",
    "    def BMI(self) -> float:\n",
    "        return round((self.weight / self.height**2), 1)\n",
    "    \n",
    "    @property\n",
    "    def BMIJudge(self) -> str:\n",
    "        if self.BMI < 18.5:\n",
    "            return \"過瘦\"\n",
    "        elif self.BMI >= 18.5 & self.BMI <24:\n",
    "            return \"標準\"\n",
    "        elif self.BMI >= 24 & self.BMI <27:\n",
    "            return \"過重\"\n",
    "        elif self.BMI >= 27 & self.BMI <30:\n",
    "            return \"輕度肥胖\"\n",
    "        elif self.BMI >= 30 & self.BMI <35:\n",
    "            return \"中度肥胖\"\n",
    "        elif self.BMI >= 35:\n",
    "            return \"重度\"\n",
    "        else:\n",
    "            return \"格式錯誤\"\n",
    "\n",
    "    def __repr__(self):\n",
    "        return f\"您好:{self.name}\\n您的BMI是:{self.BMI}\\n您的體重:{self.BMIJudge}\"\n",
    "\n",
    "name = input(\"請輸入姓名\")\n",
    "height = float(input(\"請輸入身高(cm)\"))\n",
    "weight = float(input(\"請輸入體重(kg)\"))\n",
    "\n",
    "p1 = Person(name, height, weight) \n",
    "print(p1)"
   ]
  },
  {
   "cell_type": "code",
   "execution_count": 28,
   "metadata": {},
   "outputs": [
    {
     "ename": "ValueError",
     "evalue": "could not convert string to float: 'aws'",
     "output_type": "error",
     "traceback": [
      "\u001b[0;31m---------------------------------------------------------------------------\u001b[0m",
      "\u001b[0;31mValueError\u001b[0m                                Traceback (most recent call last)",
      "Cell \u001b[0;32mIn[28], line 32\u001b[0m\n\u001b[1;32m     29\u001b[0m         \u001b[38;5;28;01mreturn\u001b[39;00m \u001b[38;5;124mf\u001b[39m\u001b[38;5;124m\"\u001b[39m\u001b[38;5;124m您好:\u001b[39m\u001b[38;5;132;01m{\u001b[39;00m\u001b[38;5;28mself\u001b[39m\u001b[38;5;241m.\u001b[39mname\u001b[38;5;132;01m}\u001b[39;00m\u001b[38;5;130;01m\\n\u001b[39;00m\u001b[38;5;124m您的BMI是:\u001b[39m\u001b[38;5;132;01m{\u001b[39;00m\u001b[38;5;28mself\u001b[39m\u001b[38;5;241m.\u001b[39mBMI\u001b[38;5;132;01m}\u001b[39;00m\u001b[38;5;130;01m\\n\u001b[39;00m\u001b[38;5;124m您的體重:\u001b[39m\u001b[38;5;132;01m{\u001b[39;00m\u001b[38;5;28mself\u001b[39m\u001b[38;5;241m.\u001b[39mBMIJudge\u001b[38;5;132;01m}\u001b[39;00m\u001b[38;5;124m\"\u001b[39m\n\u001b[1;32m     31\u001b[0m name \u001b[38;5;241m=\u001b[39m \u001b[38;5;28minput\u001b[39m(\u001b[38;5;124m\"\u001b[39m\u001b[38;5;124m請輸入姓名\u001b[39m\u001b[38;5;124m\"\u001b[39m)\n\u001b[0;32m---> 32\u001b[0m height \u001b[38;5;241m=\u001b[39m \u001b[38;5;28;43mfloat\u001b[39;49m\u001b[43m(\u001b[49m\u001b[38;5;28;43minput\u001b[39;49m\u001b[43m(\u001b[49m\u001b[38;5;124;43m\"\u001b[39;49m\u001b[38;5;124;43m請輸入身高(cm)\u001b[39;49m\u001b[38;5;124;43m\"\u001b[39;49m\u001b[43m)\u001b[49m\u001b[43m)\u001b[49m\n\u001b[1;32m     33\u001b[0m weight \u001b[38;5;241m=\u001b[39m \u001b[38;5;28mfloat\u001b[39m(\u001b[38;5;28minput\u001b[39m(\u001b[38;5;124m\"\u001b[39m\u001b[38;5;124m請輸入體重(kg)\u001b[39m\u001b[38;5;124m\"\u001b[39m))\n\u001b[1;32m     35\u001b[0m \u001b[38;5;28;01mtry\u001b[39;00m:\n",
      "\u001b[0;31mValueError\u001b[0m: could not convert string to float: 'aws'"
     ]
    }
   ],
   "source": [
    "class Person():\n",
    "    def __init__(self, name:str, height:float, weight:float) -> None: # attribute\n",
    "        self.name = name\n",
    "        self.height = height/100\n",
    "        self.weight = weight\n",
    "    \n",
    "    @property\n",
    "    def BMI(self) -> float:\n",
    "        return round((self.weight / self.height**2), 1)\n",
    "    \n",
    "    @property\n",
    "    def BMIJudge(self) -> str:\n",
    "        if self.BMI < 18.5:\n",
    "            return \"過瘦\"\n",
    "        elif self.BMI >= 18.5 and self.BMI <24:\n",
    "            return \"標準\"\n",
    "        elif self.BMI >= 24 and self.BMI <27:\n",
    "            return \"過重\"\n",
    "        elif self.BMI >= 27 and self.BMI <30:\n",
    "            return \"輕度肥胖\"\n",
    "        elif self.BMI >= 30 and self.BMI <35:\n",
    "            return \"中度肥胖\"\n",
    "        elif self.BMI >= 35:\n",
    "            return \"重度\"\n",
    "        else:\n",
    "            return \"格式錯誤\"\n",
    "\n",
    "    def __repr__(self):\n",
    "        return f\"您好:{self.name}\\n您的BMI是:{self.BMI}\\n您的體重:{self.BMIJudge}\"\n",
    "\n",
    "name = input(\"請輸入姓名\")\n",
    "height = float(input(\"請輸入身高(cm)\"))\n",
    "weight = float(input(\"請輸入體重(kg)\"))\n",
    "\n",
    "try:\n",
    "    p1 = Person(name, height, weight) \n",
    "    print(p1)\n",
    "except:\n",
    "    print(\"格式錯誤\")"
   ]
  },
  {
   "cell_type": "code",
   "execution_count": 29,
   "metadata": {},
   "outputs": [
    {
     "name": "stdout",
     "output_type": "stream",
     "text": [
      "您好:180\n",
      "您的BMI是:24.7\n",
      "您的體重:過重\n"
     ]
    }
   ],
   "source": [
    "class Person():\n",
    "    def __init__(self, name:str, height:float, weight:float) -> None: # attribute\n",
    "        self.name = name\n",
    "        self.height = height/100\n",
    "        self.weight = weight\n",
    "    \n",
    "    @property\n",
    "    def BMI(self) -> float:\n",
    "        return round((self.weight / self.height**2), 1)\n",
    "    \n",
    "    @property\n",
    "    def BMIJudge(self) -> str:\n",
    "        if self.BMI < 18.5:\n",
    "            return \"過瘦\"\n",
    "        elif self.BMI >= 18.5 and self.BMI <24:\n",
    "            return \"標準\"\n",
    "        elif self.BMI >= 24 and self.BMI <27:\n",
    "            return \"過重\"\n",
    "        elif self.BMI >= 27 and self.BMI <30:\n",
    "            return \"輕度肥胖\"\n",
    "        elif self.BMI >= 30 and self.BMI <35:\n",
    "            return \"中度肥胖\"\n",
    "        elif self.BMI >= 35:\n",
    "            return \"重度\"\n",
    "        else:\n",
    "            return \"格式錯誤\"\n",
    "\n",
    "    def __repr__(self):\n",
    "        return f\"您好:{self.name}\\n您的BMI是:{self.BMI}\\n您的體重:{self.BMIJudge}\"\n",
    "\n",
    "name = input(\"請輸入姓名\")\n",
    "height_input = input(\"請輸入身高(cm)\")\n",
    "weight_input = input(\"請輸入體重(kg)\")\n",
    "\n",
    "try:\n",
    "    height = float(height_input)\n",
    "    weight = float(weight_input)\n",
    "    p1 = Person(name, height, weight) \n",
    "    print(p1)\n",
    "except:\n",
    "    print(\"身高體重請輸入數字\")"
   ]
  }
 ],
 "metadata": {
  "kernelspec": {
   "display_name": "Python 3",
   "language": "python",
   "name": "python3"
  },
  "language_info": {
   "codemirror_mode": {
    "name": "ipython",
    "version": 3
   },
   "file_extension": ".py",
   "mimetype": "text/x-python",
   "name": "python",
   "nbconvert_exporter": "python",
   "pygments_lexer": "ipython3",
   "version": "3.10.14"
  }
 },
 "nbformat": 4,
 "nbformat_minor": 2
}
