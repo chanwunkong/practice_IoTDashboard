{
 "cells": [
  {
   "cell_type": "markdown",
   "metadata": {},
   "source": [
    "# class BMI\n",
    "attribute -> name,weight,height\n",
    "property -> bmi\n",
    "instance method -> status\n",
    "\n",
    "# 輸入\n",
    "請輸入姓名\n",
    "體重\n",
    "身高\n",
    "\n",
    "# 輸出\n",
    "徐國堂您好,BMI:26.12,體重:過重"
   ]
  },
  {
   "cell_type": "code",
   "execution_count": null,
   "metadata": {},
   "outputs": [],
   "source": []
  }
 ],
 "metadata": {
  "language_info": {
   "name": "python"
  }
 },
 "nbformat": 4,
 "nbformat_minor": 2
}
