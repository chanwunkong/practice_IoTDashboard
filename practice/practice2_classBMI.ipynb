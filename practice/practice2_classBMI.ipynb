{
 "cells": [
  {
   "cell_type": "markdown",
   "metadata": {},
   "source": [
    "# class BMI\n",
    "attribute -> name,weight,height\n",
    "property -> bmi\n",
    "instance method -> status\n",
    "\n",
    "# 輸入\n",
    "請輸入姓名\n",
    "體重\n",
    "身高\n",
    "\n",
    "# 輸出\n",
    "徐國堂您好,BMI:26.12,體重:過重"
   ]
  },
  {
   "cell_type": "code",
   "execution_count": null,
   "metadata": {},
   "outputs": [],
   "source": [
    "try:\n",
    "    name = input(\"請輸入姓名\")\n",
    "    height = float(input(\"請輸入身高(cm)\"))/100\n",
    "    weight = float(input(\"請輸入體重(kg)\"))\n",
    "    BMI = round((weight / height**2), 1)\n",
    "    \n",
    "    # output\n",
    "    print(f\"您好:{name} \\n您的BMI是:{BMI}\")\n",
    "\n",
    "    if BMI < 18.5:\n",
    "        print(f\"您的體重:過瘦\")\n",
    "    elif BMI >= 18.5 & BMI <24:\n",
    "        print(f\"您的體重:標準\")\n",
    "    elif BMI >= 24 & BMI <27:\n",
    "        print(f\"您的體重:過重\")\n",
    "    elif BMI >= 27 & BMI <30:\n",
    "        print(f\"您的體重:輕度肥胖\")\n",
    "    elif BMI >= 30 & BMI <35:\n",
    "        print(f\"您的體重:中度肥胖\")\n",
    "    elif BMI >= 35:\n",
    "        print(f\"您的體重:重度\")\n",
    "    else:\n",
    "        print(\"您的體重:格式錯誤\")\n",
    "except:\n",
    "    print(\"格式錯誤\")\n",
    "print(\"===應用程式結束===\")"
   ]
  },
  {
   "cell_type": "code",
   "execution_count": 1,
   "metadata": {},
   "outputs": [
    {
     "name": "stdout",
     "output_type": "stream",
     "text": [
      "姓名是1\n"
     ]
    }
   ],
   "source": [
    "class person():\n",
    "    def __init__(self, name, height, weight) -> None: # attribute\n",
    "        self.name = name\n",
    "        self.height = height\n",
    "        self.weight = weight\n",
    "    \n",
    "    def __repr__(self):\n",
    "        return f'姓名是{self.name}'\n",
    "\n",
    "p1 = person(input(\"請輸入姓名\"),input(\"請輸入身高(cm)\"),input(\"請輸入體重(kg)\")) \n",
    "print(p1)"
   ]
  },
  {
   "cell_type": "code",
   "execution_count": 4,
   "metadata": {},
   "outputs": [
    {
     "ename": "RecursionError",
     "evalue": "maximum recursion depth exceeded while getting the str of an object",
     "output_type": "error",
     "traceback": [
      "\u001b[0;31m---------------------------------------------------------------------------\u001b[0m",
      "\u001b[0;31mRecursionError\u001b[0m                            Traceback (most recent call last)",
      "Cell \u001b[0;32mIn[4], line 15\u001b[0m\n\u001b[1;32m     12\u001b[0m         \u001b[38;5;28;01mreturn\u001b[39;00m \u001b[38;5;124mf\u001b[39m\u001b[38;5;124m\"\u001b[39m\u001b[38;5;124m您的BMI是:\u001b[39m\u001b[38;5;132;01m{\u001b[39;00m\u001b[38;5;28mself\u001b[39m\u001b[38;5;241m.\u001b[39mBMI\u001b[38;5;132;01m}\u001b[39;00m\u001b[38;5;124m\"\u001b[39m\n\u001b[1;32m     14\u001b[0m p1 \u001b[38;5;241m=\u001b[39m person(\u001b[38;5;28minput\u001b[39m(\u001b[38;5;124m\"\u001b[39m\u001b[38;5;124m請輸入姓名\u001b[39m\u001b[38;5;124m\"\u001b[39m),\u001b[38;5;28minput\u001b[39m(\u001b[38;5;124m\"\u001b[39m\u001b[38;5;124m請輸入身高(cm)\u001b[39m\u001b[38;5;124m\"\u001b[39m),\u001b[38;5;28minput\u001b[39m(\u001b[38;5;124m\"\u001b[39m\u001b[38;5;124m請輸入體重(kg)\u001b[39m\u001b[38;5;124m\"\u001b[39m)) \n\u001b[0;32m---> 15\u001b[0m \u001b[38;5;28;43mprint\u001b[39;49m\u001b[43m(\u001b[49m\u001b[43mp1\u001b[49m\u001b[43m)\u001b[49m\n",
      "Cell \u001b[0;32mIn[4], line 12\u001b[0m, in \u001b[0;36mperson.__repr__\u001b[0;34m(self)\u001b[0m\n\u001b[1;32m     10\u001b[0m \u001b[38;5;28;01mdef\u001b[39;00m \u001b[38;5;21m__repr__\u001b[39m(\u001b[38;5;28mself\u001b[39m):\n\u001b[1;32m     11\u001b[0m     \u001b[38;5;66;03m# return f\"您好:{self.name}\"\u001b[39;00m\n\u001b[0;32m---> 12\u001b[0m     \u001b[38;5;28;01mreturn\u001b[39;00m \u001b[38;5;124mf\u001b[39m\u001b[38;5;124m\"\u001b[39m\u001b[38;5;124m您的BMI是:\u001b[39m\u001b[38;5;132;01m{\u001b[39;00m\u001b[38;5;28mself\u001b[39m\u001b[38;5;241m.\u001b[39mBMI\u001b[38;5;132;01m}\u001b[39;00m\u001b[38;5;124m\"\u001b[39m\n",
      "Cell \u001b[0;32mIn[4], line 12\u001b[0m, in \u001b[0;36mperson.__repr__\u001b[0;34m(self)\u001b[0m\n\u001b[1;32m     10\u001b[0m \u001b[38;5;28;01mdef\u001b[39;00m \u001b[38;5;21m__repr__\u001b[39m(\u001b[38;5;28mself\u001b[39m):\n\u001b[1;32m     11\u001b[0m     \u001b[38;5;66;03m# return f\"您好:{self.name}\"\u001b[39;00m\n\u001b[0;32m---> 12\u001b[0m     \u001b[38;5;28;01mreturn\u001b[39;00m \u001b[38;5;124mf\u001b[39m\u001b[38;5;124m\"\u001b[39m\u001b[38;5;124m您的BMI是:\u001b[39m\u001b[38;5;132;01m{\u001b[39;00m\u001b[38;5;28mself\u001b[39m\u001b[38;5;241m.\u001b[39mBMI\u001b[38;5;132;01m}\u001b[39;00m\u001b[38;5;124m\"\u001b[39m\n",
      "    \u001b[0;31m[... skipping similar frames: person.__repr__ at line 12 (740 times)]\u001b[0m\n",
      "Cell \u001b[0;32mIn[4], line 12\u001b[0m, in \u001b[0;36mperson.__repr__\u001b[0;34m(self)\u001b[0m\n\u001b[1;32m     10\u001b[0m \u001b[38;5;28;01mdef\u001b[39;00m \u001b[38;5;21m__repr__\u001b[39m(\u001b[38;5;28mself\u001b[39m):\n\u001b[1;32m     11\u001b[0m     \u001b[38;5;66;03m# return f\"您好:{self.name}\"\u001b[39;00m\n\u001b[0;32m---> 12\u001b[0m     \u001b[38;5;28;01mreturn\u001b[39;00m \u001b[38;5;124mf\u001b[39m\u001b[38;5;124m\"\u001b[39m\u001b[38;5;124m您的BMI是:\u001b[39m\u001b[38;5;132;01m{\u001b[39;00m\u001b[38;5;28mself\u001b[39m\u001b[38;5;241m.\u001b[39mBMI\u001b[38;5;132;01m}\u001b[39;00m\u001b[38;5;124m\"\u001b[39m\n",
      "\u001b[0;31mRecursionError\u001b[0m: maximum recursion depth exceeded while getting the str of an object"
     ]
    }
   ],
   "source": [
    "class person():\n",
    "    def __init__(self, name, height, weight) -> None: # attribute\n",
    "        self.name = name\n",
    "        self.height = height\n",
    "        self.weight = weight\n",
    "    \n",
    "    def BMI(self):\n",
    "        return round((weight / height**2), 1)\n",
    "\n",
    "    def __repr__(self):\n",
    "        # return f\"您好:{self.name}\"\n",
    "        return f\"您的BMI是:{self.BMI}\"\n",
    "\n",
    "p1 = person(input(\"請輸入姓名\"),input(\"請輸入身高(cm)\"),input(\"請輸入體重(kg)\")) \n",
    "print(p1)"
   ]
  }
 ],
 "metadata": {
  "kernelspec": {
   "display_name": "Python 3",
   "language": "python",
   "name": "python3"
  },
  "language_info": {
   "codemirror_mode": {
    "name": "ipython",
    "version": 3
   },
   "file_extension": ".py",
   "mimetype": "text/x-python",
   "name": "python",
   "nbconvert_exporter": "python",
   "pygments_lexer": "ipython3",
   "version": "3.10.14"
  }
 },
 "nbformat": 4,
 "nbformat_minor": 2
}
