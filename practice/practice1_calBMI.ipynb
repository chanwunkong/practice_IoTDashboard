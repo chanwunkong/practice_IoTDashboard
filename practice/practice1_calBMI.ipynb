{
 "cells": [
  {
   "cell_type": "markdown",
   "metadata": {},
   "source": [
    "# 輸入:\n",
    "請輸入姓名:徐國堂\n",
    "請輸入身高(cm):175\n",
    "請輸入體重(kg):70\n",
    "\n",
    "# 輸出:\n",
    "徐國堂您好:\n",
    "您的BMI是:28\n",
    "您的體重:過重\n",
    "\n",
    "# 註解:\n",
    "檢查輸入格式是否正碼"
   ]
  },
  {
   "cell_type": "code",
   "execution_count": 1,
   "metadata": {},
   "outputs": [
    {
     "data": {
      "text/plain": [
       "'3'"
      ]
     },
     "execution_count": 1,
     "metadata": {},
     "output_type": "execute_result"
    }
   ],
   "source": [
    "input(\"請輸入姓名\")\n",
    "input(\"請輸入身高(cm)\")\n",
    "input(\"請輸入體重(kg)\")"
   ]
  },
  {
   "cell_type": "code",
   "execution_count": null,
   "metadata": {},
   "outputs": [],
   "source": [
    "input(\"請輸入姓名\")\n",
    "int(input(\"請輸入身高(cm)\"))\n",
    "int(input(\"請輸入體重(kg)\"))"
   ]
  },
  {
   "cell_type": "code",
   "execution_count": 4,
   "metadata": {},
   "outputs": [
    {
     "name": "stdout",
     "output_type": "stream",
     "text": [
      "0.0\n"
     ]
    }
   ],
   "source": [
    "name = input(\"請輸入姓名\")\n",
    "height = int(input(\"請輸入身高(cm)\"))\n",
    "weight = int(input(\"請輸入體重(kg)\"))\n",
    "BMI = round((weight / height**2), 1)\n",
    "print(BMI)"
   ]
  },
  {
   "cell_type": "code",
   "execution_count": 5,
   "metadata": {},
   "outputs": [
    {
     "name": "stdout",
     "output_type": "stream",
     "text": [
      "0.0\n"
     ]
    }
   ],
   "source": [
    "name = input(\"請輸入姓名\")\n",
    "height = float(input(\"請輸入身高(cm)\"))\n",
    "weight = float(input(\"請輸入體重(kg)\"))\n",
    "BMI = round((weight / height**2), 1)\n",
    "print(BMI)"
   ]
  },
  {
   "cell_type": "code",
   "execution_count": 6,
   "metadata": {},
   "outputs": [
    {
     "name": "stdout",
     "output_type": "stream",
     "text": [
      "14.7\n"
     ]
    }
   ],
   "source": [
    "name = input(\"請輸入姓名\")\n",
    "height = float(input(\"請輸入身高(cm)\"))/100\n",
    "weight = float(input(\"請輸入體重(kg)\"))\n",
    "BMI = round((weight / height**2), 1)\n",
    "print(BMI)"
   ]
  },
  {
   "cell_type": "code",
   "execution_count": 24,
   "metadata": {},
   "outputs": [
    {
     "name": "stdout",
     "output_type": "stream",
     "text": [
      "gzaes您好: \n",
      "您的BMI是:18.5\n"
     ]
    },
    {
     "ename": "TypeError",
     "evalue": "unsupported operand type(s) for &: 'float' and 'float'",
     "output_type": "error",
     "traceback": [
      "\u001b[0;31m---------------------------------------------------------------------------\u001b[0m",
      "\u001b[0;31mTypeError\u001b[0m                                 Traceback (most recent call last)",
      "Cell \u001b[0;32mIn[24], line 4\u001b[0m\n\u001b[1;32m      2\u001b[0m \u001b[38;5;28;01mif\u001b[39;00m BMI \u001b[38;5;241m<\u001b[39m \u001b[38;5;241m18.5\u001b[39m:\n\u001b[1;32m      3\u001b[0m     \u001b[38;5;28mprint\u001b[39m(\u001b[38;5;124mf\u001b[39m\u001b[38;5;124m\"\u001b[39m\u001b[38;5;124m您的體重:過瘦\u001b[39m\u001b[38;5;124m\"\u001b[39m)\n\u001b[0;32m----> 4\u001b[0m \u001b[38;5;28;01mif\u001b[39;00m BMI \u001b[38;5;241m>\u001b[39m\u001b[38;5;241m=\u001b[39m \u001b[38;5;241;43m18.5\u001b[39;49m\u001b[43m \u001b[49m\u001b[38;5;241;43m&\u001b[39;49m\u001b[43m \u001b[49m\u001b[43mBMI\u001b[49m \u001b[38;5;241m<\u001b[39m\u001b[38;5;241m24\u001b[39m:\n\u001b[1;32m      5\u001b[0m     \u001b[38;5;28mprint\u001b[39m(\u001b[38;5;124mf\u001b[39m\u001b[38;5;124m\"\u001b[39m\u001b[38;5;124m您的體重:標準\u001b[39m\u001b[38;5;124m\"\u001b[39m)\n\u001b[1;32m      6\u001b[0m \u001b[38;5;28;01mif\u001b[39;00m BMI \u001b[38;5;241m>\u001b[39m\u001b[38;5;241m=\u001b[39m \u001b[38;5;241m24\u001b[39m \u001b[38;5;241m&\u001b[39m BMI \u001b[38;5;241m<\u001b[39m\u001b[38;5;241m27\u001b[39m:\n",
      "\u001b[0;31mTypeError\u001b[0m: unsupported operand type(s) for &: 'float' and 'float'"
     ]
    }
   ],
   "source": [
    "print(f\"{name}您好: \\n您的BMI是:{BMI}\")\n",
    "if BMI < 18.5:\n",
    "    print(f\"您的體重:過瘦\")\n",
    "if BMI >= 18.5 & BMI <24:\n",
    "    print(f\"您的體重:標準\")\n",
    "if BMI >= 24 & BMI <27:\n",
    "    print(f\"您的體重:過重\")\n",
    "if BMI >= 27 & BMI <30:\n",
    "    print(f\"您的體重:輕度肥胖\")\n",
    "if BMI >= 30 & BMI <35:\n",
    "    print(f\"您的體重:中度肥胖\")\n",
    "if BMI >= 35:\n",
    "    print(f\"您的體重:重度\")\n"
   ]
  },
  {
   "cell_type": "code",
   "execution_count": 25,
   "metadata": {},
   "outputs": [
    {
     "name": "stdout",
     "output_type": "stream",
     "text": [
      "15.4\n",
      "您好:180 \n",
      "您的BMI是:15.4\n",
      "您的體重:過瘦\n"
     ]
    }
   ],
   "source": [
    "name = input(\"請輸入姓名\")\n",
    "height = float(input(\"請輸入身高(cm)\"))/100\n",
    "weight = float(input(\"請輸入體重(kg)\"))\n",
    "BMI = round((weight / height**2), 1)\n",
    "print(BMI)\n",
    "\n",
    "print(f\"您好:{name} \\n您的BMI是:{BMI}\")\n",
    "if BMI < 18.5:\n",
    "    print(f\"您的體重:過瘦\")\n",
    "elif BMI >= 18.5 & BMI <24:\n",
    "    print(f\"您的體重:標準\")\n",
    "elif BMI >= 24 & BMI <27:\n",
    "    print(f\"您的體重:過重\")\n",
    "elif BMI >= 27 & BMI <30:\n",
    "    print(f\"您的體重:輕度肥胖\")\n",
    "elif BMI >= 30 & BMI <35:\n",
    "    print(f\"您的體重:中度肥胖\")\n",
    "elif BMI >= 35:\n",
    "    print(f\"您的體重:重度\")\n",
    "else:\n",
    "    print(\"您的體重:格式錯誤\")"
   ]
  },
  {
   "cell_type": "code",
   "execution_count": 26,
   "metadata": {},
   "outputs": [
    {
     "name": "stdout",
     "output_type": "stream",
     "text": [
      "您好:180 \n",
      "您的BMI是:15.4\n",
      "您的體重:過瘦\n",
      "===應用程式結束===\n"
     ]
    }
   ],
   "source": [
    "try:\n",
    "    name = input(\"請輸入姓名\")\n",
    "    height = float(input(\"請輸入身高(cm)\"))/100\n",
    "    weight = float(input(\"請輸入體重(kg)\"))\n",
    "    BMI = round((weight / height**2), 1)\n",
    "    \n",
    "    # output\n",
    "    print(f\"您好:{name} \\n您的BMI是:{BMI}\")\n",
    "\n",
    "    if BMI < 18.5:\n",
    "        print(f\"您的體重:過瘦\")\n",
    "    elif BMI >= 18.5 & BMI <24:\n",
    "        print(f\"您的體重:標準\")\n",
    "    elif BMI >= 24 & BMI <27:\n",
    "        print(f\"您的體重:過重\")\n",
    "    elif BMI >= 27 & BMI <30:\n",
    "        print(f\"您的體重:輕度肥胖\")\n",
    "    elif BMI >= 30 & BMI <35:\n",
    "        print(f\"您的體重:中度肥胖\")\n",
    "    elif BMI >= 35:\n",
    "        print(f\"您的體重:重度\")\n",
    "    else:\n",
    "        print(\"您的體重:格式錯誤\")\n",
    "except:\n",
    "    print(\"格式錯誤\")\n",
    "print(\"===應用程式結束===\")"
   ]
  }
 ],
 "metadata": {
  "kernelspec": {
   "display_name": "Python 3",
   "language": "python",
   "name": "python3"
  },
  "language_info": {
   "codemirror_mode": {
    "name": "ipython",
    "version": 3
   },
   "file_extension": ".py",
   "mimetype": "text/x-python",
   "name": "python",
   "nbconvert_exporter": "python",
   "pygments_lexer": "ipython3",
   "version": "3.10.14"
  }
 },
 "nbformat": 4,
 "nbformat_minor": 2
}
