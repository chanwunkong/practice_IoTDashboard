{
 "cells": [
  {
   "cell_type": "code",
   "execution_count": 1,
   "metadata": {},
   "outputs": [
    {
     "name": "stdout",
     "output_type": "stream",
     "text": [
      "Martini\n",
      "我是Person的實體\n"
     ]
    }
   ],
   "source": [
    "class Person:\n",
    "    def __init__(self, n): #自訂的初始化\n",
    "        self.name = n #建立attribute\n",
    "\n",
    "    def __repr__(self):\n",
    "        return '我是Person的實體' \n",
    "\n",
    "\n",
    "p1 = Person('Martini')\n",
    "print(p1.name)\n",
    "print(p1)"
   ]
  },
  {
   "cell_type": "code",
   "execution_count": null,
   "metadata": {},
   "outputs": [],
   "source": [
    "# 字串差補: 字串和變數整合，傳出全新字串"
   ]
  },
  {
   "cell_type": "code",
   "execution_count": 4,
   "metadata": {},
   "outputs": [
    {
     "name": "stdout",
     "output_type": "stream",
     "text": [
      "姓名是Martini\n"
     ]
    }
   ],
   "source": [
    "class Person:\n",
    "    def __init__(self, n): #自訂的初始化\n",
    "        self.name = n #建立attribute\n",
    "\n",
    "    def __repr__(self):\n",
    "        return f'姓名是{self.name}' \n",
    "\n",
    "\n",
    "p1 = Person('Martini')\n",
    "print(p1)"
   ]
  },
  {
   "cell_type": "code",
   "execution_count": 5,
   "metadata": {},
   "outputs": [
    {
     "name": "stdout",
     "output_type": "stream",
     "text": [
      "姓名是Mar\n"
     ]
    }
   ],
   "source": [
    "p2 = Person('Mar')\n",
    "print(p2)"
   ]
  },
  {
   "cell_type": "code",
   "execution_count": 20,
   "metadata": {},
   "outputs": [
    {
     "name": "stdout",
     "output_type": "stream",
     "text": [
      "<class '__main__.Student'>\n",
      "Martini\n",
      "96\n"
     ]
    }
   ],
   "source": [
    "class Person:\n",
    "    def __init__(self, n:str): #自訂的初始化\n",
    "        self.name = n #建立attribute\n",
    "\n",
    "    def __repr__(self):\n",
    "        return f'姓名是{self.name}' \n",
    "    \n",
    "class Student(Person):\n",
    "    def __init__(self, name:str, score:int):\n",
    "        super().__init__(name) #呼叫父類別\n",
    "        self.score = score\n",
    "\n",
    "s1 = Student('Martini', 96)\n",
    "print(type(s1))\n",
    "print(s1.name)\n",
    "print(s1.score)"
   ]
  },
  {
   "cell_type": "code",
   "execution_count": 21,
   "metadata": {},
   "outputs": [
    {
     "name": "stdout",
     "output_type": "stream",
     "text": [
      "姓名是Martini, 分數是96\n"
     ]
    }
   ],
   "source": [
    "class Person:\n",
    "    def __init__(self, n:str): #自訂的初始化\n",
    "        self.name = n #建立attribute\n",
    "\n",
    "    def __repr__(self):\n",
    "        return f'姓名是{self.name}' \n",
    "    \n",
    "class Student(Person):\n",
    "    def __init__(self, name:str, score:int):\n",
    "        super().__init__(name) #呼叫父類別\n",
    "        self.score = score\n",
    "\n",
    "    def __repr__(self):\n",
    "        return f'姓名是{self.name}, 分數是{self.score}' \n",
    "\n",
    "s1 = Student('Martini', 96)\n",
    "print(s1)\n"
   ]
  },
  {
   "cell_type": "code",
   "execution_count": 23,
   "metadata": {},
   "outputs": [
    {
     "name": "stdout",
     "output_type": "stream",
     "text": [
      "姓名是Martini\n",
      "中文是96\n",
      "英文是90\n",
      "數學是97\n",
      "\n"
     ]
    }
   ],
   "source": [
    "class Person:\n",
    "    def __init__(self, n:str): #自訂的初始化\n",
    "        self.name = n #建立attribute\n",
    "\n",
    "    def __repr__(self):\n",
    "        return f'姓名是{self.name}' \n",
    "    \n",
    "class Student(Person):\n",
    "    def __init__(self, name:str, chineses:int, english:int, math:int):\n",
    "        super().__init__(name) #呼叫父類別\n",
    "        self.chineses = chineses\n",
    "        self.english = english\n",
    "        self.math = math\n",
    "        \n",
    "\n",
    "    def __repr__(self):\n",
    "        message =  f'姓名是{self.name}\\n'\n",
    "        message +=  f'中文是{self.chineses}\\n'\n",
    "        message +=  f'英文是{self.english}\\n'\n",
    "        message +=  f'數學是{self.math}\\n'\n",
    "        return message\n",
    "\n",
    "s1 = Student('Martini', 96, 90, 97)\n",
    "print(s1)\n"
   ]
  }
 ],
 "metadata": {
  "kernelspec": {
   "display_name": "Python 3",
   "language": "python",
   "name": "python3"
  },
  "language_info": {
   "codemirror_mode": {
    "name": "ipython",
    "version": 3
   },
   "file_extension": ".py",
   "mimetype": "text/x-python",
   "name": "python",
   "nbconvert_exporter": "python",
   "pygments_lexer": "ipython3",
   "version": "3.10.14"
  }
 },
 "nbformat": 4,
 "nbformat_minor": 2
}
