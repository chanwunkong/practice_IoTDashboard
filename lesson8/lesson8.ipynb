{
 "cells": [
  {
   "cell_type": "code",
   "execution_count": 1,
   "metadata": {},
   "outputs": [
    {
     "name": "stdout",
     "output_type": "stream",
     "text": [
      "Martini\n",
      "我是Person的實體\n"
     ]
    }
   ],
   "source": [
    "class Person:\n",
    "    def __init__(self, n): #自訂的初始化\n",
    "        self.name = n #建立attribute\n",
    "\n",
    "    def __repr__(self):\n",
    "        return '我是Person的實體' \n",
    "\n",
    "\n",
    "p1 = Person('Martini')\n",
    "print(p1.name)\n",
    "print(p1)"
   ]
  },
  {
   "cell_type": "code",
   "execution_count": null,
   "metadata": {},
   "outputs": [],
   "source": [
    "# 字串差補: 字串和變數整合，傳出全新字串"
   ]
  },
  {
   "cell_type": "code",
   "execution_count": 4,
   "metadata": {},
   "outputs": [
    {
     "name": "stdout",
     "output_type": "stream",
     "text": [
      "姓名是Martini\n"
     ]
    }
   ],
   "source": [
    "class Person:\n",
    "    def __init__(self, n): #自訂的初始化\n",
    "        self.name = n #建立attribute\n",
    "\n",
    "    def __repr__(self):\n",
    "        return f'姓名是{self.name}' \n",
    "\n",
    "\n",
    "p1 = Person('Martini')\n",
    "print(p1)"
   ]
  },
  {
   "cell_type": "code",
   "execution_count": 5,
   "metadata": {},
   "outputs": [
    {
     "name": "stdout",
     "output_type": "stream",
     "text": [
      "姓名是Mar\n"
     ]
    }
   ],
   "source": [
    "p2 = Person('Mar')\n",
    "print(p2)"
   ]
  },
  {
   "cell_type": "code",
   "execution_count": 20,
   "metadata": {},
   "outputs": [
    {
     "name": "stdout",
     "output_type": "stream",
     "text": [
      "<class '__main__.Student'>\n",
      "Martini\n",
      "96\n"
     ]
    }
   ],
   "source": [
    "class Person:\n",
    "    def __init__(self, n:str): #自訂的初始化\n",
    "        self.name = n #建立attribute\n",
    "\n",
    "    def __repr__(self):\n",
    "        return f'姓名是{self.name}' \n",
    "    \n",
    "class Student(Person):\n",
    "    def __init__(self, name:str, score:int):\n",
    "        super().__init__(name) #呼叫父類別\n",
    "        self.score = score\n",
    "\n",
    "s1 = Student('Martini', 96)\n",
    "print(type(s1))\n",
    "print(s1.name)\n",
    "print(s1.score)"
   ]
  },
  {
   "cell_type": "code",
   "execution_count": 21,
   "metadata": {},
   "outputs": [
    {
     "name": "stdout",
     "output_type": "stream",
     "text": [
      "姓名是Martini, 分數是96\n"
     ]
    }
   ],
   "source": [
    "class Person:\n",
    "    def __init__(self, n:str): #自訂的初始化\n",
    "        self.name = n #建立attribute\n",
    "\n",
    "    def __repr__(self):\n",
    "        return f'姓名是{self.name}' \n",
    "    \n",
    "class Student(Person):\n",
    "    def __init__(self, name:str, score:int):\n",
    "        super().__init__(name) #呼叫父類別\n",
    "        self.score = score\n",
    "\n",
    "    def __repr__(self):\n",
    "        return f'姓名是{self.name}, 分數是{self.score}' \n",
    "\n",
    "s1 = Student('Martini', 96)\n",
    "print(s1)\n"
   ]
  },
  {
   "cell_type": "code",
   "execution_count": 23,
   "metadata": {},
   "outputs": [
    {
     "name": "stdout",
     "output_type": "stream",
     "text": [
      "姓名是Martini\n",
      "中文是96\n",
      "英文是90\n",
      "數學是97\n",
      "\n"
     ]
    }
   ],
   "source": [
    "class Person:\n",
    "    def __init__(self, n:str): #自訂的初始化\n",
    "        self.name = n #建立attribute\n",
    "\n",
    "    def __repr__(self):\n",
    "        return f'姓名是{self.name}' \n",
    "    \n",
    "class Student(Person):\n",
    "    def __init__(self, name:str, chinese:int, english:int, math:int):\n",
    "        super().__init__(name) #呼叫父類別\n",
    "        self.chinese = chinese\n",
    "        self.english = english\n",
    "        self.math = math\n",
    "        \n",
    "\n",
    "    def __repr__(self):\n",
    "        message =  f'姓名是{self.name}\\n'\n",
    "        message +=  f'中文是{self.chinese}\\n'\n",
    "        message +=  f'英文是{self.english}\\n'\n",
    "        message +=  f'數學是{self.math}\\n'\n",
    "        return message\n",
    "\n",
    "s1 = Student('Martini', 96, 90, 97)\n",
    "print(s1)\n"
   ]
  },
  {
   "cell_type": "code",
   "execution_count": 28,
   "metadata": {},
   "outputs": [
    {
     "name": "stdout",
     "output_type": "stream",
     "text": [
      "姓名是Martini\n"
     ]
    }
   ],
   "source": [
    "class Person:\n",
    "    def __init__(self, n:str): #自訂的初始化\n",
    "        self.name = n #建立attribute\n",
    "\n",
    "    def __repr__(self):\n",
    "        return f'姓名是{self.name}' \n",
    "    \n",
    "class Student(Person):\n",
    "    def __init__(self, name:str, chinese:int, english:int, math:int):\n",
    "        super().__init__(name) #呼叫父類別\n",
    "        self.chinese = chinese\n",
    "        self.english = english\n",
    "        self.math = math\n",
    "        \n",
    "\n",
    "    # def __repr__(self):\n",
    "    #     message =  f'姓名是{self.name}\\n'\n",
    "    #     message +=  f'中文是{self.chinese}\\n'\n",
    "    #     message +=  f'英文是{self.english}\\n'\n",
    "    #     message +=  f'數學是{self.math}\\n'\n",
    "        # return message\n",
    "\n",
    "s1 = Student('Martini', 96, 90, 97)\n",
    "print(s1)\n",
    "# 如果calss沒有對應的，尋找執行父類別\n"
   ]
  },
  {
   "cell_type": "code",
   "execution_count": 39,
   "metadata": {},
   "outputs": [
    {
     "ename": "TypeError",
     "evalue": "Student() takes no arguments",
     "output_type": "error",
     "traceback": [
      "\u001b[0;31m---------------------------------------------------------------------------\u001b[0m",
      "\u001b[0;31mTypeError\u001b[0m                                 Traceback (most recent call last)",
      "Cell \u001b[0;32mIn[39], line 23\u001b[0m\n\u001b[1;32m     13\u001b[0m         \u001b[38;5;28mself\u001b[39m\u001b[38;5;241m.\u001b[39mmath \u001b[38;5;241m=\u001b[39m math\n\u001b[1;32m     16\u001b[0m     \u001b[38;5;66;03m# def __repr__(self):\u001b[39;00m\n\u001b[1;32m     17\u001b[0m     \u001b[38;5;66;03m#     message =  f'姓名是{self.name}\\n'\u001b[39;00m\n\u001b[1;32m     18\u001b[0m     \u001b[38;5;66;03m#     message +=  f'中文是{self.chinese}\\n'\u001b[39;00m\n\u001b[1;32m     19\u001b[0m     \u001b[38;5;66;03m#     message +=  f'英文是{self.english}\\n'\u001b[39;00m\n\u001b[1;32m     20\u001b[0m     \u001b[38;5;66;03m#     message +=  f'數學是{self.math}\\n'\u001b[39;00m\n\u001b[1;32m     21\u001b[0m         \u001b[38;5;66;03m# return message\u001b[39;00m\n\u001b[0;32m---> 23\u001b[0m s1 \u001b[38;5;241m=\u001b[39m \u001b[43mStudent\u001b[49m\u001b[43m(\u001b[49m\u001b[38;5;124;43m'\u001b[39;49m\u001b[38;5;124;43mMartini\u001b[39;49m\u001b[38;5;124;43m'\u001b[39;49m\u001b[43m,\u001b[49m\u001b[43m \u001b[49m\u001b[38;5;241;43m96\u001b[39;49m\u001b[43m,\u001b[49m\u001b[43m \u001b[49m\u001b[38;5;241;43m90\u001b[39;49m\u001b[43m,\u001b[49m\u001b[43m \u001b[49m\u001b[38;5;241;43m97\u001b[39;49m\u001b[43m)\u001b[49m\n\u001b[1;32m     24\u001b[0m \u001b[38;5;28mprint\u001b[39m(s1)\n\u001b[1;32m     25\u001b[0m \u001b[38;5;66;03m# 如果calss沒有對應的，尋找執行父類別\u001b[39;00m\n\u001b[1;32m     26\u001b[0m \n\u001b[1;32m     27\u001b[0m \u001b[38;5;66;03m# __init__ , __str__ , __repr__ 是 Class 預設 method .下面來看一下使用的時機點.\u001b[39;00m\n\u001b[0;32m   (...)\u001b[0m\n\u001b[1;32m     33\u001b[0m \u001b[38;5;66;03m# object.__repr__(self) – https://docs.python.org/3/reference/datamodel.html#object.__repr__\u001b[39;00m\n\u001b[1;32m     34\u001b[0m \u001b[38;5;66;03m# 可以透過內建函數 repr() 呼叫使用.\u001b[39;00m\n",
      "\u001b[0;31mTypeError\u001b[0m: Student() takes no arguments"
     ]
    }
   ],
   "source": [
    "class Person:\n",
    "    def __i__(self, n:str): #自訂的初始化\n",
    "        self.name = n #建立attribute\n",
    "\n",
    "    def __r__(self):\n",
    "        return f'姓名是{self.name}' \n",
    "    \n",
    "class Student(Person):\n",
    "    def __i__(self, name:str, chinese:int, english:int, math:int):\n",
    "        super().__i__(name) #呼叫父類別\n",
    "        self.chinese = chinese\n",
    "        self.english = english\n",
    "        self.math = math\n",
    "        \n",
    "\n",
    "    # def __repr__(self):\n",
    "    #     message =  f'姓名是{self.name}\\n'\n",
    "    #     message +=  f'中文是{self.chinese}\\n'\n",
    "    #     message +=  f'英文是{self.english}\\n'\n",
    "    #     message +=  f'數學是{self.math}\\n'\n",
    "        # return message\n",
    "\n",
    "s1 = Student('Martini', 96, 90, 97)\n",
    "print(s1)\n",
    "# 如果calss沒有對應的，尋找執行父類別\n",
    "\n",
    "# __init__ , __str__ , __repr__ 是 Class 預設 method .下面來看一下使用的時機點.\n",
    "\n",
    "# object.__init__(self[, …]) – https://docs.python.org/3/reference/datamodel.html#object.__init__\n",
    "# 建構函式, 在建立新的 實體 (instance) 後會呼叫使用.\n",
    "# object.__str__(self) – https://docs.python.org/3/reference/datamodel.html#object.__str__\n",
    "# 可以透過 str(object) 呼叫使用或是透過內建函數 format() 與 print() 直接使用.\n",
    "# object.__repr__(self) – https://docs.python.org/3/reference/datamodel.html#object.__repr__\n",
    "# 可以透過內建函數 repr() 呼叫使用."
   ]
  },
  {
   "cell_type": "code",
   "execution_count": 37,
   "metadata": {},
   "outputs": [
    {
     "name": "stdout",
     "output_type": "stream",
     "text": [
      "姓名是Martini\n",
      "中文是100\n",
      "英文是90\n",
      "數學是97\n",
      "\n"
     ]
    }
   ],
   "source": [
    "class Person:\n",
    "    def __init__(self, n:str): #自訂的初始化\n",
    "        self.name = n #建立attribute\n",
    "\n",
    "    def __repr__(self):\n",
    "        return f'姓名是{self.name}' \n",
    "    \n",
    "class Student(Person):\n",
    "    def __init__(self, name:str, chinese:int, english:int, math:int):\n",
    "        super().__init__(name) #呼叫父類別\n",
    "        self.chinese = chinese\n",
    "        self.english = english\n",
    "        self.math = math\n",
    "        \n",
    "\n",
    "    def __repr__(self):\n",
    "        message =  f'姓名是{self.name}\\n'\n",
    "        message +=  f'中文是{self.chinese}\\n'\n",
    "        message +=  f'英文是{self.english}\\n'\n",
    "        message +=  f'數學是{self.math}\\n'\n",
    "        return message\n",
    "\n",
    "\n",
    "s1 = Student('Martini', 96, 90, 97)\n",
    "s1.chinese = 100  #可被更改\n",
    "print(s1)\n"
   ]
  },
  {
   "cell_type": "code",
   "execution_count": 45,
   "metadata": {},
   "outputs": [
    {
     "name": "stdout",
     "output_type": "stream",
     "text": [
      "<class 'int'>\n",
      "姓名是Martini\n",
      "中文是96\n",
      "英文是90\n",
      "數學是97\n",
      "\n"
     ]
    }
   ],
   "source": [
    "class Person:\n",
    "    def __init__(self, n:str): #自訂的初始化\n",
    "        self.name = n #建立attribute\n",
    "\n",
    "    def __repr__(self):\n",
    "        return f'姓名是{self.name}' \n",
    "    \n",
    "class Student(Person):\n",
    "    def __init__(self, name:str, chinese:int, english:int, math:int):\n",
    "        super().__init__(name) #呼叫父類別\n",
    "        self.__chineses = chinese #兩個__私有化\n",
    "        self.__english = english\n",
    "        self.__math = math\n",
    "        \n",
    "    @property #只能讀取\n",
    "    def chinese(self):\n",
    "        return self.__chineses\n",
    "    \n",
    "    @property\n",
    "    def english(self):\n",
    "        return self.__english\n",
    "    \n",
    "    @property\n",
    "    def math(self):\n",
    "        return self.__math\n",
    "\n",
    "    def __repr__(self):\n",
    "        message =  f'姓名是{self.name}\\n'\n",
    "        message +=  f'中文是{self.chinese}\\n'\n",
    "        message +=  f'英文是{self.english}\\n'\n",
    "        message +=  f'數學是{self.math}\\n'\n",
    "        return message\n",
    "\n",
    "s1 = Student('Martini', 96, 90, 97)\n",
    "# s1.chinese = 100  # can't set attribute 'chinese'\n",
    "print(type(s1.chinese))\n",
    "print(s1)\n"
   ]
  },
  {
   "cell_type": "code",
   "execution_count": 59,
   "metadata": {},
   "outputs": [
    {
     "name": "stdout",
     "output_type": "stream",
     "text": [
      "總分283\n",
      "平均218.33\n"
     ]
    }
   ],
   "source": [
    "class Person:\n",
    "    def __init__(self, n:str): #自訂的初始化\n",
    "        self.name = n #建立attribute\n",
    "\n",
    "    def __repr__(self):\n",
    "        return f'姓名是{self.name}' \n",
    "    \n",
    "class Student(Person):\n",
    "    def __init__(self, name:str, chinese:int, english:int, math:int):\n",
    "        super().__init__(name) #呼叫父類別\n",
    "        self.__chineses = chinese #兩個__私有化\n",
    "        self.__english = english\n",
    "        self.__math = math\n",
    "        \n",
    "    @property #只能讀取\n",
    "    def chinese(self):\n",
    "        return self.__chineses\n",
    "    \n",
    "    @property\n",
    "    def english(self):\n",
    "        return self.__english\n",
    "    \n",
    "    @property\n",
    "    def math(self):\n",
    "        return self.__math\n",
    "\n",
    "    def __repr__(self):\n",
    "        message =  f'姓名是{self.name}\\n'\n",
    "        message +=  f'中文是{self.chinese}\\n'\n",
    "        message +=  f'英文是{self.english}\\n'\n",
    "        message +=  f'數學是{self.math}\\n'\n",
    "        return message\n",
    "    \n",
    "    def sum(self) -> int: #實體的method\n",
    "        return f'總分{self.chinese + self.english + self.math}'\n",
    "    \n",
    "    def avg(self) -> float: #實體的method\n",
    "        return f'平均{round(self.chinese + self.english + self.math / 3, 2)}'\n",
    "        # return f'平均{(self.sum())/3 }'\n",
    "\n",
    "s1 = Student('Martini', 96, 90, 97)\n",
    "\n",
    "print(s1.sum())\n",
    "print(s1.avg())"
   ]
  }
 ],
 "metadata": {
  "kernelspec": {
   "display_name": "Python 3",
   "language": "python",
   "name": "python3"
  },
  "language_info": {
   "codemirror_mode": {
    "name": "ipython",
    "version": 3
   },
   "file_extension": ".py",
   "mimetype": "text/x-python",
   "name": "python",
   "nbconvert_exporter": "python",
   "pygments_lexer": "ipython3",
   "version": "3.10.14"
  }
 },
 "nbformat": 4,
 "nbformat_minor": 2
}
