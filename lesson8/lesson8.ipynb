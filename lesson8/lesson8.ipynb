{
 "cells": [
  {
   "cell_type": "code",
   "execution_count": 1,
   "metadata": {},
   "outputs": [
    {
     "name": "stdout",
     "output_type": "stream",
     "text": [
      "Martini\n",
      "我是Person的實體\n"
     ]
    }
   ],
   "source": [
    "class Person:\n",
    "    def __init__(self, n): #自訂的初始化\n",
    "        self.name = n #建立attribute\n",
    "\n",
    "    def __repr__(self):\n",
    "        return '我是Person的實體' \n",
    "\n",
    "\n",
    "p1 = Person('Martini')\n",
    "print(p1.name)\n",
    "print(p1)"
   ]
  }
 ],
 "metadata": {
  "kernelspec": {
   "display_name": "Python 3",
   "language": "python",
   "name": "python3"
  },
  "language_info": {
   "codemirror_mode": {
    "name": "ipython",
    "version": 3
   },
   "file_extension": ".py",
   "mimetype": "text/x-python",
   "name": "python",
   "nbconvert_exporter": "python",
   "pygments_lexer": "ipython3",
   "version": "3.10.14"
  }
 },
 "nbformat": 4,
 "nbformat_minor": 2
}
