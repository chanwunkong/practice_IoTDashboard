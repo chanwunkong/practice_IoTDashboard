{
 "cells": [
  {
   "cell_type": "code",
   "execution_count": null,
   "metadata": {},
   "outputs": [],
   "source": [
    "import requests\n",
    "\n",
    "youbike_url = 'https://data.ntpc.gov.tw/api/datasets/010e5b15-3823-4b20-b401-b1cf000550c5/json?size=2000'\n",
    "try:\n",
    "    response = requests.get(youbike_url)\n",
    "except Exception as e:\n",
    "    print(e)\n",
    "else:\n",
    "    print(response.text)"
   ]
  },
  {
   "cell_type": "code",
   "execution_count": null,
   "metadata": {},
   "outputs": [],
   "source": [
    "from pydantic import BaseModel,Field,RootModel,field_validator,field_serializer\n",
    "from pprint import pprint\n",
    "\n",
    "class Site(BaseModel):\n",
    "    站點名稱:str = Field(alias=\"sna\")\n",
    "    行政區:str = Field(alias=\"sarea\")\n",
    "    日期時間:str = Field(alias='mday')\n",
    "    地址:str = Field(alias='ar')\n",
    "    總數:int = Field(alias='tot')\n",
    "    可借:int = Field(alias='sbi')\n",
    "    可還:int = Field(alias='bemp')\n",
    "    狀態:bool = Field(alias='act')\n",
    "    緯度:float = Field(alias='lat')\n",
    "    經度:float = Field(alias='lng')\n",
    "\n",
    "    @field_validator('站點名稱',mode='before')\n",
    "    @classmethod\n",
    "    def abc(cls,value):\n",
    "        return value.split('_')[-1]\n",
    "    \n",
    "    @field_validator('日期時間',mode='before')\n",
    "    @classmethod\n",
    "    def abcd(cls,value):\n",
    "        return f'{value[:4]}-{value[4:6]}-{value[6:8]} {value[8:10]}:{value[10:12]}:{value[12:]}'\n",
    "    \n",
    "    @field_serializer('狀態')\n",
    "    def abce(self,value):\n",
    "        if value:\n",
    "            return \"營業中\"\n",
    "        else:\n",
    "            return \"維護中\"\n",
    "\n",
    "\n",
    "class Root(RootModel):\n",
    "    root:list[Site]\n",
    "\n",
    "\n",
    "root = Root.model_validate_json(response.text)\n",
    "data = root.model_dump()\n",
    "pprint(data)\n",
    "\n",
    "\n",
    "\n"
   ]
  },
  {
   "cell_type": "code",
   "execution_count": null,
   "metadata": {},
   "outputs": [],
   "source": [
    "'YouBike2.0_下庄市場'.split('_')[-1]"
   ]
  },
  {
   "cell_type": "code",
   "execution_count": null,
   "metadata": {},
   "outputs": [],
   "source": [
    "nums = [1,2,3,4,5,6,7,8,9,10]\n",
    "def efg(value):\n",
    "    if value % 2 == 1:\n",
    "        return True\n",
    "    else:\n",
    "        return False\n",
    "list(filter(efg,nums))"
   ]
  },
  {
   "cell_type": "code",
   "execution_count": null,
   "metadata": {},
   "outputs": [],
   "source": [
    "def ijk(value):\n",
    "    return value['行政區']\n",
    "\n",
    "list(set(map(ijk,data)))"
   ]
  }
 ],
 "metadata": {
  "language_info": {
   "name": "python"
  }
 },
 "nbformat": 4,
 "nbformat_minor": 2
}
